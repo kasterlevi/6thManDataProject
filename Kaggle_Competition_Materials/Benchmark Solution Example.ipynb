{
 "cells": [
  {
   "cell_type": "code",
   "execution_count": 1,
   "id": "87b01694",
   "metadata": {},
   "outputs": [],
   "source": [
    "# Run Imports \n",
    "\n",
    "import pandas as pd\n",
    "import numpy as np\n",
    "from sklearn.model_selection import train_test_split\n",
    "from sklearn.linear_model import LinearRegression\n",
    "from sklearn.metrics import mean_absolute_error"
   ]
  },
  {
   "cell_type": "code",
   "execution_count": 4,
   "id": "38eb83ce",
   "metadata": {},
   "outputs": [],
   "source": [
    "# Load in All CSV's that we need to make predictions\n",
    "\n",
    "# These First Few Will be available to competition Participants\n",
    "train_df = pd.read_csv('Available_CSVs/train.csv')\n",
    "test_df = pd.read_csv('Available_CSVs/test.csv')\n",
    "example_submission = pd.read_csv('Available_CSVs/example_submission.csv')\n",
    "\n",
    "# This last one will not be available to participants, but we will still load it in to show how \n",
    "# we calculate the Mean Absolute Error (MAE) at the end.\n",
    "solution_df = pd.read_csv('Hidden_CSV/solutions.csv')"
   ]
  },
  {
   "cell_type": "code",
   "execution_count": 12,
   "id": "378c9d22",
   "metadata": {},
   "outputs": [],
   "source": [
    "# Split the training CSV's into X and Y values \n",
    "X = train_df.drop(['WL'], axis = 1)\n",
    "y = train_df['WL']\n",
    "\n",
    "# Create Training and Test Sets from our training CSV\n",
    "X_train, X_test, y_train, y_test = train_test_split(X, y, test_size=0.25, random_state=10)"
   ]
  },
  {
   "cell_type": "code",
   "execution_count": 18,
   "id": "39119349",
   "metadata": {},
   "outputs": [
    {
     "name": "stdout",
     "output_type": "stream",
     "text": [
      "MAE: 0.07259371743636349\n"
     ]
    }
   ],
   "source": [
    "# Generate a Simple Linear Model and make Predictions on the test set to obtain MAE\n",
    "\n",
    "from sklearn.linear_model import LinearRegression\n",
    "\n",
    "model = LinearRegression()\n",
    "model.fit(X_train, y_train)\n",
    "linear_predictions = model.predict(X_test)\n",
    "print('MAE: ' + str(mean_absolute_error(y_test, linear_predictions)))"
   ]
  },
  {
   "cell_type": "code",
   "execution_count": 19,
   "id": "f3e98c1b",
   "metadata": {},
   "outputs": [
    {
     "name": "stdout",
     "output_type": "stream",
     "text": [
      "MAE: 0.0794899480420651\n"
     ]
    }
   ],
   "source": [
    "# Generate a Neural Netowork Model and make Predictions on the test set to obtain MAE\n",
    "\n",
    "from sklearn.preprocessing import MinMaxScaler\n",
    "from sklearn.neural_network import MLPRegressor\n",
    "\n",
    "# Scale the Data\n",
    "scaler = MinMaxScaler()\n",
    "X_train_scaled = scaler.fit_transform(X_train)\n",
    "X_test_scaled = scaler.transform(X_test)\n",
    "\n",
    "# Generate the Model\n",
    "model = MLPRegressor(random_state = 1)\n",
    "model.fit(X_train_scaled, y_train)\n",
    "neural_predictions = model.predict(X_test_scaled)\n",
    "print('MAE: ' + str(mean_absolute_error(y_test, neural_predictions)))"
   ]
  },
  {
   "cell_type": "code",
   "execution_count": 26,
   "id": "cba36b1d",
   "metadata": {},
   "outputs": [],
   "source": [
    "# Since we see that the Linear Model has a lower absolute error than the Neural Network, \n",
    "# we will use that for our submission.\n",
    "\n",
    "# Make predictions on the test set using a linear model of the entire training set \n",
    "X = train_df.drop(['WL'], axis = 1)\n",
    "y = train_df['WL']\n",
    "model = LinearRegression()\n",
    "model.fit(X, y)\n",
    "predictions = model.predict(test_df)"
   ]
  },
  {
   "cell_type": "code",
   "execution_count": 25,
   "id": "5e483ba6",
   "metadata": {},
   "outputs": [
    {
     "data": {
      "text/html": [
       "<div>\n",
       "<style scoped>\n",
       "    .dataframe tbody tr th:only-of-type {\n",
       "        vertical-align: middle;\n",
       "    }\n",
       "\n",
       "    .dataframe tbody tr th {\n",
       "        vertical-align: top;\n",
       "    }\n",
       "\n",
       "    .dataframe thead th {\n",
       "        text-align: right;\n",
       "    }\n",
       "</style>\n",
       "<table border=\"1\" class=\"dataframe\">\n",
       "  <thead>\n",
       "    <tr style=\"text-align: right;\">\n",
       "      <th></th>\n",
       "      <th>Player ID</th>\n",
       "      <th>WL</th>\n",
       "    </tr>\n",
       "  </thead>\n",
       "  <tbody>\n",
       "    <tr>\n",
       "      <th>0</th>\n",
       "      <td>429</td>\n",
       "      <td>0.541936</td>\n",
       "    </tr>\n",
       "    <tr>\n",
       "      <th>1</th>\n",
       "      <td>23</td>\n",
       "      <td>0.572322</td>\n",
       "    </tr>\n",
       "    <tr>\n",
       "      <th>2</th>\n",
       "      <td>189</td>\n",
       "      <td>0.495968</td>\n",
       "    </tr>\n",
       "    <tr>\n",
       "      <th>3</th>\n",
       "      <td>47</td>\n",
       "      <td>0.446412</td>\n",
       "    </tr>\n",
       "    <tr>\n",
       "      <th>4</th>\n",
       "      <td>361</td>\n",
       "      <td>0.493610</td>\n",
       "    </tr>\n",
       "  </tbody>\n",
       "</table>\n",
       "</div>"
      ],
      "text/plain": [
       "   Player ID        WL\n",
       "0        429  0.541936\n",
       "1         23  0.572322\n",
       "2        189  0.495968\n",
       "3         47  0.446412\n",
       "4        361  0.493610"
      ]
     },
     "execution_count": 25,
     "metadata": {},
     "output_type": "execute_result"
    }
   ],
   "source": [
    "# Format our predictions so it is like the example submission\n",
    "our_submission = pd.DataFrame({'Player ID': test_df['Player ID'], 'WL': predictions})\n",
    "our_submission.head()\n",
    "\n",
    "# Great! Now we have a dataframe that is ready for submission once we save it as a CSV"
   ]
  },
  {
   "cell_type": "code",
   "execution_count": 30,
   "id": "e15ddf1f",
   "metadata": {},
   "outputs": [
    {
     "name": "stdout",
     "output_type": "stream",
     "text": [
      "Our MAE: 0.06622058600342644\n"
     ]
    }
   ],
   "source": [
    "# IMPORTANT: This point and below will not be available to Kaggle Participants, but is included to show how\n",
    "# their submission will be compared to the actual solutions \n",
    "\n",
    "# Generate Model Error \n",
    "print('Our MAE: ' + str(mean_absolute_error(solution_df['WL'], our_submission['WL'])))"
   ]
  },
  {
   "cell_type": "code",
   "execution_count": 31,
   "id": "5b7fa20d",
   "metadata": {},
   "outputs": [],
   "source": [
    "# After Obtaining the MAE of the Kaggle Participant's Predictions using a Linear Model, we see that they obtained \n",
    "# a MAE of .06622. You may notice that this is similar to the benchmark of .066 that we set in the Kaggler's Guide. \n",
    "\n",
    "# That is because we decided to use the linear model as the benchmark that users should try to beat! This is \n",
    "# the model we calculated the MAE for up above, so we rounded down from the .0662206 to .066 to obtain our benchmark. "
   ]
  }
 ],
 "metadata": {
  "kernelspec": {
   "display_name": "Python 3",
   "language": "python",
   "name": "python3"
  },
  "language_info": {
   "codemirror_mode": {
    "name": "ipython",
    "version": 3
   },
   "file_extension": ".py",
   "mimetype": "text/x-python",
   "name": "python",
   "nbconvert_exporter": "python",
   "pygments_lexer": "ipython3",
   "version": "3.8.8"
  }
 },
 "nbformat": 4,
 "nbformat_minor": 5
}
